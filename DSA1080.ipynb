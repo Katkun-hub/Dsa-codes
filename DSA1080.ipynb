{
 "cells": [
  {
   "cell_type": "code",
   "execution_count": 3,
   "id": "9d6e5afb",
   "metadata": {},
   "outputs": [
    {
     "name": "stdout",
     "output_type": "stream",
     "text": [
      "The sum of 1 and 3 is 4.0\n"
     ]
    }
   ],
   "source": [
    "#store input numbers\n",
    "num1=input(\"Enter first number: \")\n",
    "num2=input(\"Enter second number: \")\n",
    "\n",
    "#add the two numbers\n",
    "sum=float(num1)+float(num2)\n",
    "\n",
    "#display the sum\n",
    "print(\"The sum of {0} and {1} is {2}\".format(num1, num2, sum))"
   ]
  },
  {
   "cell_type": "code",
   "execution_count": 7,
   "id": "669eca1c",
   "metadata": {},
   "outputs": [
    {
     "name": "stdout",
     "output_type": "stream",
     "text": [
      "The cube of 3.0 is 27.0\n"
     ]
    }
   ],
   "source": [
    "#python programme to calculate the cube of a number\n",
    "number= float(input(\"Enter a number: \"))\n",
    "cube=number*number*number\n",
    "\n",
    "print(\"The cube of {0} is {1}\".format(number, cube))"
   ]
  },
  {
   "cell_type": "code",
   "execution_count": 4,
   "id": "a79ad3b5",
   "metadata": {},
   "outputs": [
    {
     "name": "stdout",
     "output_type": "stream",
     "text": [
      "4\n"
     ]
    },
    {
     "ename": "TypeError",
     "evalue": "can only concatenate str (not \"int\") to str",
     "output_type": "error",
     "traceback": [
      "\u001b[31m---------------------------------------------------------------------------\u001b[39m",
      "\u001b[31mTypeError\u001b[39m                                 Traceback (most recent call last)",
      "\u001b[36mCell\u001b[39m\u001b[36m \u001b[39m\u001b[32mIn[4]\u001b[39m\u001b[32m, line 3\u001b[39m\n\u001b[32m      1\u001b[39m n=\u001b[38;5;28minput\u001b[39m(\u001b[33m\"\u001b[39m\u001b[33mpositive integer\u001b[39m\u001b[33m\"\u001b[39m)\n\u001b[32m      2\u001b[39m \u001b[38;5;28mprint\u001b[39m(n)\n\u001b[32m----> \u001b[39m\u001b[32m3\u001b[39m a=\u001b[43mn\u001b[49m\u001b[43m+\u001b[49m\u001b[32;43m1\u001b[39;49m\n\u001b[32m      4\u001b[39m b=n+\u001b[32m2\u001b[39m\n\u001b[32m      5\u001b[39m c=n+\u001b[32m3\u001b[39m\n",
      "\u001b[31mTypeError\u001b[39m: can only concatenate str (not \"int\") to str"
     ]
    }
   ],
   "source": [
    "n=input(\"positive integer\")\n",
    "print(n)\n",
    "a=n+1\n",
    "b=n+2\n",
    "c=n+3\n",
    "d=n+4\n",
    "print(a, b, c, d)"
   ]
  },
  {
   "cell_type": "code",
   "execution_count": null,
   "id": "2692431c",
   "metadata": {},
   "outputs": [],
   "source": [
    "#create a list\n",
    "L1 = [1, 2, 3, 4, 5 ,6]\n",
    "L2 = [1, 2, 3, 4, 5 ,6]\n",
    "\n",
    "list=[0, 1, 2, 3, 4, 5, 6]\n",
    "list[0]=0\n",
    "list[1]=1   \n",
    "list[2]=2\n",
    "list[3]=3\n",
    "list[4]=4\n",
    "list[5]=5\n",
    "list[0:]=[0, 1, 2, 3, 4, 5, 6]\n",
    "list[:]=[0, 1, 2, 3, 4, 5, 6]\n",
    "list[2:4]=[2, 3]\n",
    "list[1:3]=[1, 2, 3]\n",
    "list[:4]=[0, 1, 2, 3]\n",
    "\n"
   ]
  },
  {
   "cell_type": "code",
   "execution_count": 9,
   "id": "6b0d57f0",
   "metadata": {},
   "outputs": [
    {
     "name": "stdout",
     "output_type": "stream",
     "text": [
      "0\n",
      "1\n",
      "2\n",
      "3\n",
      "[0, 1, 2, 3, 4, 5]\n",
      "[0, 1, 2, 3, 4, 5, 6, 7]\n",
      "[2, 3, 4]\n",
      "[1, 3, 5]\n"
     ]
    }
   ],
   "source": [
    "list=[0, 1, 2, 3, 4, 5, 6,7]\n",
    "print(list[0])\n",
    "print(list[1])\n",
    "print(list[2])\n",
    "print(list[3])\n",
    "\n",
    "#Slicing the elements\n",
    "print(list[0:6]) # By default the index value is 0 so it starts from the 0th element and go for index -1.\n",
    "print(list[:])\n",
    "print(list[2:5])\n",
    "print(list[1:6:2])\n"
   ]
  },
  {
   "cell_type": "code",
   "execution_count": 11,
   "id": "487e369a",
   "metadata": {},
   "outputs": [
    {
     "name": "stdout",
     "output_type": "stream",
     "text": [
      "5\n",
      "[3, 4, 5]\n",
      "[1, 2, 3, 4]\n",
      "[3, 4]\n"
     ]
    }
   ],
   "source": [
    "#negative indexing\n",
    "list=[1, 2, 3, 4, 5]\n",
    "print(list[-1])  \n",
    "\n",
    "print(list[-3:])\n",
    "print(list[:-1])\n",
    "print(list[-3:-1])"
   ]
  },
  {
   "cell_type": "code",
   "execution_count": 14,
   "id": "d1d4c375",
   "metadata": {},
   "outputs": [
    {
     "name": "stdout",
     "output_type": "stream",
     "text": [
      "she i\n",
      "a very young girl \n",
      " very young\n",
      " lrig gnuoy yrev a si ehs\n"
     ]
    }
   ],
   "source": [
    "#1.string slicing\n",
    "text=\"she is a very young girl \"\n",
    "#to extract the first 5 characters\n",
    "print(text[0:5])\n",
    "#to extract the characters from index 7 to the end\n",
    "print(text[7:])\n",
    "#to extract a substring of the string\n",
    "print(text[8:19])\n",
    "#to reverse the string using slicing\n",
    "print(text[::-1])\n"
   ]
  },
  {
   "cell_type": "code",
   "execution_count": 15,
   "id": "bfe7dd47",
   "metadata": {},
   "outputs": [
    {
     "name": "stdout",
     "output_type": "stream",
     "text": [
      "[0, 1, 2]\n",
      "[4, 5, 6, 7]\n",
      "[0, 2, 4, 6, 8]\n",
      "[9, 8, 7, 6, 5, 4, 3, 2, 1, 0]\n"
     ]
    }
   ],
   "source": [
    "#2.List slicing\n",
    "list=[0, 1, 2, 3, 4, 5, 6, 7, 8, 9]\n",
    "#to extract the first 3 elements\n",
    "print(list[0:3])\n",
    "#to extract elements from index 4 to 7\n",
    "print(list[4:8])\n",
    "#to extract every second element from the list\n",
    "print(list[::2])\n",
    "#to reverse the list\n",
    "print(list[::-1])"
   ]
  },
  {
   "cell_type": "code",
   "execution_count": 16,
   "id": "7b2136b9",
   "metadata": {},
   "outputs": [
    {
     "name": "stdout",
     "output_type": "stream",
     "text": [
      "[7, 8, 9]\n",
      "[5, 6, 7, 8, 9]\n"
     ]
    }
   ],
   "source": [
    "#3.negative indexing\n",
    "list=[0, 1, 2, 3, 4, 5, 6, 7, 8, 9]\n",
    "#to extract the last 3 elements\n",
    "print(list[-3:])\n",
    "#to extract the last 5 elements on the list\n",
    "print(list[-5:])\n"
   ]
  },
  {
   "cell_type": "code",
   "execution_count": 2,
   "id": "fe2cd985",
   "metadata": {},
   "outputs": [
    {
     "name": "stdout",
     "output_type": "stream",
     "text": [
      "[1, 2, 3, 4, 5, 6]\n",
      "[1, 2, 10, 4, 5, 6]\n",
      "[1, 89, 78, 4, 5, 6]\n",
      "[1, 89, 78, 4, 5, 25]\n"
     ]
    }
   ],
   "source": [
    "#updating a list\n",
    "list=[1, 2, 3, 4, 5, 6]\n",
    "print(list)\n",
    "list[2]=10  \n",
    "print(list)\n",
    "#adding multiple elements to a list\n",
    "list[1:3]=[89,78]\n",
    "print(list)\n",
    "list[-1]=25\n",
    "print(list)"
   ]
  },
  {
   "cell_type": "code",
   "execution_count": 3,
   "id": "34da9cdd",
   "metadata": {},
   "outputs": [
    {
     "name": "stdout",
     "output_type": "stream",
     "text": [
      "['apple', 'banana', 'cherry', 'orange']\n"
     ]
    }
   ],
   "source": [
    "thislist=[\"apple\", \"banana\", \"cherry\"]\n",
    "thislist.append(\"orange\")  # Adds an element to the end of the list\n",
    "print(thislist)"
   ]
  },
  {
   "cell_type": "code",
   "execution_count": null,
   "id": "c7340448",
   "metadata": {},
   "outputs": [
    {
     "name": "stdout",
     "output_type": "stream",
     "text": [
      "['apple', 'cherry', 'orange']\n"
     ]
    }
   ],
   "source": [
    "thislist=[\"apple\", \"banana\", \"cherry\", \"orange\"]\n",
    "thislist.remove(\"banana\")  # Removes the first occurrence of the specified element\n",
    "print(thislist)\n",
    "\n"
   ]
  },
  {
   "cell_type": "code",
   "execution_count": 13,
   "id": "f69e20f0",
   "metadata": {},
   "outputs": [
    {
     "name": "stdout",
     "output_type": "stream",
     "text": [
      "['apple', 'cherry']\n",
      "['cherry']\n"
     ]
    }
   ],
   "source": [
    "thislist=[\"apple\", \"banana\", \"cherry\"]\n",
    "thislist.pop(1)\n",
    "print(thislist)  # Removes the element at index 1 (banana)\n",
    "del thislist[0]  # Deletes the element at index 0 (apple)\n",
    "print(thislist)  # Remaining list after deletion\n",
    "thislist=[\"apple\", \"banana\", \"cherry\"]\n",
    "del thislist"
   ]
  },
  {
   "cell_type": "code",
   "execution_count": 15,
   "id": "75d62d44",
   "metadata": {},
   "outputs": [
    {
     "name": "stdout",
     "output_type": "stream",
     "text": [
      "[]\n"
     ]
    }
   ],
   "source": [
    "thislist=[\"apple\", \"banana\", \"cherry\"]\n",
    "thislist.clear()  # Removes all elements from the list\n",
    "print(thislist)  "
   ]
  },
  {
   "cell_type": "code",
   "execution_count": 17,
   "id": "eb6259cd",
   "metadata": {},
   "outputs": [
    {
     "name": "stdout",
     "output_type": "stream",
     "text": [
      "('apple', 'banana', 'cherry')\n",
      "3\n"
     ]
    }
   ],
   "source": [
    "thistuple= (\"apple\", \"banana\", \"cherry\")\n",
    "print(thistuple)  # Prints the tuple\n",
    "print(len(thistuple))  # Prints the length of the tuple"
   ]
  },
  {
   "cell_type": "code",
   "execution_count": 21,
   "id": "ac18fdaf",
   "metadata": {},
   "outputs": [
    {
     "name": "stdout",
     "output_type": "stream",
     "text": [
      "<class 'tuple'>\n",
      "<class 'str'>\n"
     ]
    }
   ],
   "source": [
    "thistuple=(\"apple\",)\n",
    "print(type(thistuple))  # Prints the type of thistuple, which will be str since it's a single string\n",
    "\n",
    "#Not a tuple\n",
    "thistuple=(\"apple\")  # This is not a tuple, it's just a string\n",
    "print(type(thistuple))  "
   ]
  },
  {
   "cell_type": "code",
   "execution_count": null,
   "id": "14ba4ca8",
   "metadata": {},
   "outputs": [
    {
     "name": "stdout",
     "output_type": "stream",
     "text": [
      "('cherry', 'orange', 'kiwi')\n",
      "('apple', 'banana', 'cherry', 'orange', 'kiwi', 'melon', 'mango')\n"
     ]
    }
   ],
   "source": [
    "thistuple= (\"apple\", \"banana\", \"cherry\", \"orange\", \"kiwi\", \"melon\", \"mango\", \"grape\")\n",
    "print(thistuple[2:5])  # Prints elements from index 2 to 4 (cherry, orange, kiwi)\n",
    "print(thistuple[:7])  # Prints elements from the start to index 3 (apple, banana, cherry, orange)\n",
    "print(thistuple[2:])  # Prints elements from index 2 to the end (cherry, orange, kiwi, melon, mango, grape)"
   ]
  },
  {
   "cell_type": "code",
   "execution_count": 28,
   "id": "0ffe1c76",
   "metadata": {},
   "outputs": [
    {
     "name": "stdout",
     "output_type": "stream",
     "text": [
      "('apple', 'kiwi', 'cherry')\n"
     ]
    }
   ],
   "source": [
    "del list  # Remove the variable that shadows the built-in list function if it exists\n",
    "\n",
    "x=(\"apple\", \"banana\", \"cherry\")\n",
    "y=list(x)  # Converts the tuple to a list\n",
    "y[1]=\"kiwi\"  # Modifies the second element of the list\n",
    "x=tuple(y)  # Converts the list back to a tuple\n",
    "print(x)  # Prints the modified tuple (apple, kiwi, cherry)"
   ]
  },
  {
   "cell_type": "code",
   "execution_count": 29,
   "id": "12452059",
   "metadata": {},
   "outputs": [
    {
     "name": "stdout",
     "output_type": "stream",
     "text": [
      "('apple', 'banana', 'cherry', 'orange')\n"
     ]
    }
   ],
   "source": [
    "thistuple= (\"apple\", \"banana\", \"cherry\")\n",
    "y=(\"orange\",)\n",
    "thistuple+=y  # Concatenates the tuple with another tuple\n",
    "print(thistuple)  # Prints the concatenated tuple (apple, banana, cherry, orange)"
   ]
  },
  {
   "cell_type": "code",
   "execution_count": null,
   "id": "dc6c1225",
   "metadata": {},
   "outputs": [
    {
     "name": "stdout",
     "output_type": "stream",
     "text": [
      "('banana', 'cherry')\n"
     ]
    }
   ],
   "source": [
    "thistuple= (\"apple\", \"banana\", \"cherry\")\n",
    "y=list(thistuple)  # Converts the tuple to a list\n",
    "y.remove(\"apple\")\n",
    "thistuple=tuple(y)  # Converts the list back to a tuple\n",
    "print(thistuple)  # Prints the modified tuple (banana, cherry)\n",
    "\n"
   ]
  },
  {
   "cell_type": "code",
   "execution_count": 6,
   "id": "655fcc81",
   "metadata": {},
   "outputs": [
    {
     "name": "stdout",
     "output_type": "stream",
     "text": [
      "{'banana', 'cherry', 'apple'}\n",
      "banana\n",
      "cherry\n",
      "apple\n",
      "{'banana', 'orange', 'cherry', 'apple'}\n",
      "{'banana', 'cherry', 'mango', 'pineapple', 'orange', 'apple', 'papaya'}\n",
      "{'cherry', 'mango', 'pineapple', 'orange', 'apple', 'papaya'}\n",
      "{'cherry', 'mango', 'pineapple', 'apple', 'papaya'}\n",
      "{'mango', 'pineapple', 'apple', 'papaya'}\n",
      "set()\n"
     ]
    }
   ],
   "source": [
    "#SETSSSS \n",
    "thisset={\"apple\",\"banana\",\"cherry\"}\n",
    "print(thisset)  \n",
    "for x in thisset:\n",
    "    print(x)  # Iterates through the set and prints each element\n",
    "thisset.add(\"orange\")  # Adds an element to the set\n",
    "print(thisset)  \n",
    "tropical={\"pineapple\", \"mango\", \"papaya\"}\n",
    "thisset.update(tropical)  # Updates the set with elements from another set\n",
    "print(thisset)  \n",
    "thisset.remove(\"banana\")  # Removes an element from the set\n",
    "print(thisset)  \n",
    "thisset.discard(\"orange\")\n",
    "print(thisset)  \n",
    "thisset.pop()  # Removes a random element from the set\n",
    "print(thisset) \n",
    "thisset.clear()  # Clears the set, removing all elements\n",
    "print(thisset)\n"
   ]
  },
  {
   "cell_type": "code",
   "execution_count": 18,
   "id": "5e794dec",
   "metadata": {},
   "outputs": [
    {
     "name": "stdout",
     "output_type": "stream",
     "text": [
      "{'brand': 'Ford', 'model': 'Mustang', 'year': 1964}\n",
      "Ford\n",
      "{'brand': 'Ford', 'model': 'Mustang', 'year': 2020}\n",
      "3\n",
      "{'brand': 'Ford', 'model': 'Mustang', 'year': 1964, 'color': ('red', 'white', 'blue')}\n",
      "dict_keys(['brand', 'model', 'year', 'color'])\n",
      "dict_keys(['brand', 'model', 'year', 'color'])\n",
      "dict_values(['Ford', 'Mustang', 1964])\n",
      "dict_values(['Ford', 'Mustang', 2020])\n",
      "{'brand': 'Ford', 'model': 'Mustang', 'year': 2020}\n"
     ]
    }
   ],
   "source": [
    "#DICTIONARIES\n",
    "thisdict={\n",
    "    \"brand\": \"Ford\",\n",
    "    \"model\": \"Mustang\",\n",
    "    \"year\": 1964\n",
    "}\n",
    "print(thisdict) \n",
    "print(thisdict[\"brand\"])  # Accesses the value associated with the key \"brand\"\n",
    "Thisdict={\n",
    "    \"brand\": \"Ford\",\n",
    "    \"model\": \"Mustang\",\n",
    "    \"year\": 2020  # Only the last value for \"year\" will be kept\n",
    "}\n",
    "print(Thisdict)  # Prints the dictionary with the updated year\n",
    "#dictionary length\n",
    "print(len(Thisdict)) \n",
    "thisdict={\n",
    "    \"brand\": \"Ford\",\n",
    "    \"model\": \"Mustang\",\n",
    "    \"year\": 1964,\n",
    "    \"color\": (\"red\",\"white\",\"blue\")\n",
    "    }\n",
    "print(thisdict)\n",
    "#get keys\n",
    "x = thisdict.keys()  # Gets the keys of the dictionary\n",
    "print(x)  \n",
    "thisdict[\"color\"] = \"white\"\n",
    "print(x)\n",
    "#get values\n",
    "car={\n",
    "    \"brand\": \"Ford\",\n",
    "    \"model\": \"Mustang\",\n",
    "    \"year\": 1964        \n",
    "}\n",
    "x = car.values()  # Gets the values of the dictionary\n",
    "print(x)\n",
    "car[\"year\"] = 2020  # Updates the value for the key \"year\"\n",
    "print(x)  # Prints the updated values\n",
    "#updating a dictionary\n",
    "cars = {\n",
    "    \"brand\": \"Ford\",\n",
    "    \"model\": \"Mustang\",\n",
    "    \"year\": 1964\n",
    "}\n",
    "cars.update({\"year\": 2020})  \n",
    "print(cars)  "
   ]
  },
  {
   "cell_type": "code",
   "execution_count": 19,
   "id": "bcf39bb2",
   "metadata": {},
   "outputs": [
    {
     "name": "stdout",
     "output_type": "stream",
     "text": [
      "{'brand': 'Ford', 'model': 'Mustang', 'year': 1964}\n"
     ]
    }
   ],
   "source": [
    "thisdict= {\n",
    "    \"brand\": \"Ford\",\n",
    "    \"model\": \"Mustang\",\n",
    "    \"year\": 1964\n",
    "}\n",
    "newdict = thisdict.copy()  # Creates a shallow copy of the dictionary\n",
    "print(newdict)"
   ]
  },
  {
   "cell_type": "code",
   "execution_count": null,
   "id": "4e9a8142",
   "metadata": {},
   "outputs": [
    {
     "name": "stdout",
     "output_type": "stream",
     "text": [
      "Five is greater than two!\n",
      "15\n",
      "50\n",
      "25\n",
      "<class 'str'>\n",
      "Jello World\n"
     ]
    }
   ],
   "source": [
    "#REVISION FOR QUIZ\n",
    "\n",
    "if 5>2:\n",
    " print(\"Five is greater than two!\")  # Corrected syntax error by adding a colon\n",
    "x=5\n",
    "y=10\n",
    "print(x+y)\n",
    "print(x*y)\n",
    "a=b=c=5\n",
    "print(a*b)\n",
    "#data types, to identify the data type of any vaiable in python we use type() function\n",
    "d=\"precious\"\n",
    "print(type(d))\n",
    "e=\"Hello World\"\n",
    "E=e.replace(\"H\", \"J\")  # Replaces 'H' with 'J' in the string\n",
    "print(E)\n",
    "#lists use square brackets and should have commas\n",
    "list=[0,1,2,3,4,5]\n",
    "#tuples use round brackets and should have commas\n",
    "tuple=(0,1,2,3,4,5)\n",
    "#sets use curly brackets and should have commas\n",
    "set={0,1,2,3,4,5}\n",
    "#dictionary\n",
    "      \n",
    "\n",
    "\n",
    "\n",
    "\n",
    "\n",
    "\n",
    "\n"
   ]
  },
  {
   "cell_type": "code",
   "execution_count": 10,
   "id": "8d49eb78",
   "metadata": {},
   "outputs": [
    {
     "name": "stdout",
     "output_type": "stream",
     "text": [
      "b is greater than a\n",
      "a is greater than b\n",
      "y is greater than z\n",
      "a is greater than b\n"
     ]
    }
   ],
   "source": [
    "#if else\n",
    "a=5\n",
    "b=500\n",
    "if a > b:\n",
    "    print(\"a is greater than b\")    \n",
    "else:\n",
    "    print(\"b is greater than a\")\n",
    "\n",
    "#elif\n",
    "a=900\n",
    "b=500\n",
    "if a > b:\n",
    "    print(\"a is greater than b\")    \n",
    "elif a == b:\n",
    "    print(\"a is equal to b\")\n",
    "\n",
    "  #short hand if\n",
    "y=500\n",
    "z=50\n",
    "if y > z: print(\"y is greater than z\")  # This will print if the condition is true\n",
    "\n",
    "  \n",
    "    #short hand if else\n",
    "a=500\n",
    "b=50\n",
    "print(\"a is greater than b\") if a > b else print(\"b is greater than a\") "
   ]
  },
  {
   "cell_type": "code",
   "execution_count": 14,
   "id": "99b8a7e5",
   "metadata": {},
   "outputs": [
    {
     "name": "stdout",
     "output_type": "stream",
     "text": [
      "Both conditions are true\n",
      "At least one condition is true\n",
      "X is greater than 10\n",
      "Y is greater than 5\n"
     ]
    }
   ],
   "source": [
    "#and and or statements\n",
    "a=500\n",
    "b=50\n",
    "c=1000\n",
    "if a > b and c > a:\n",
    "    print(\"Both conditions are true\")\n",
    "\n",
    "#or statements\n",
    "if a > b or c < a:\n",
    "    print(\"At least one condition is true\")\n",
    "\n",
    "    #nested if\n",
    "    X=50\n",
    "    Y=10\n",
    "    if X> 10:\n",
    "        print(\"X is greater than 10\")\n",
    "        if Y > 5:\n",
    "            print(\"Y is greater than 5\")\n",
    "        else:\n",
    "            print(\"Y is not greater than 5\")\n",
    "            \n"
   ]
  },
  {
   "cell_type": "code",
   "execution_count": 1,
   "id": "af35d9b5",
   "metadata": {},
   "outputs": [
    {
     "name": "stdout",
     "output_type": "stream",
     "text": [
      "The number is zero\n"
     ]
    }
   ],
   "source": [
    "#checks if number is negative or positive or zero\n",
    "num = int(input(\"Enter a number: \"))\n",
    "if num >= 0:\n",
    "    print(\"The number is zero\")\n",
    "elif num > 0:\n",
    "    print(\"The number is positive\")\n",
    "else:\n",
    "    print(\"The number is negative\")"
   ]
  },
  {
   "cell_type": "code",
   "execution_count": 15,
   "id": "faede997",
   "metadata": {},
   "outputs": [
    {
     "name": "stdout",
     "output_type": "stream",
     "text": [
      "1.0\n",
      "0\n",
      "my name is tutu and i am 19 years old\n",
      "1\n",
      "5\n",
      "[2, 3]\n",
      "[3, 4]\n",
      "[1, 2, 4, 5]\n",
      "('girl', 'they', 'them', 'she', 'he')\n",
      "apple\n",
      "b\n",
      "a\n",
      "n\n",
      "a\n",
      "n\n",
      "a\n",
      "banana\n",
      "b\n",
      "a\n",
      "n\n",
      "a\n",
      "n\n",
      "a\n",
      "cherry\n",
      "b\n",
      "a\n",
      "n\n",
      "a\n",
      "n\n",
      "a\n"
     ]
    }
   ],
   "source": [
    " # Remove the variable that shadows the built-in list function if it exists\n",
    "\n",
    "x=1\n",
    "a=float(x)\n",
    "print(a)  # Converts x to a float and prints it\n",
    "y=0.21\n",
    "b=int(y)\n",
    "print(b)\n",
    "age=19\n",
    "txt=\"my name is tutu and i am {} years old\"\n",
    "d=txt.format (age)\n",
    "print(d)  # Formats the string with the age variable\n",
    "my_list = [1, 2, 3, 4, 5]\n",
    "print(my_list[0])  # Prints the first element of the list\n",
    "print(my_list[-1])  # Prints the last element of the list\n",
    "print(my_list[1:3])  # Prints elements from index 1 to 2 (inclusive of 1, exclusive of 3)\n",
    "print(my_list[-3:-1])\n",
    "my_list.pop(2)\n",
    "print(my_list)  # Prints the list after removing the element at index\n",
    "x = (\"girl\", \"boy\", \"them\", \"she\", \"he\")\n",
    "y = list(x)\n",
    "y[1] = \"they\"  # Modifies the second element of the list\n",
    "x = tuple(y)  # Converts the list back to a tuple\n",
    "print(x)  # Prints the modified tuple\n",
    "fruits = [\"apple\", \"banana\", \"cherry\"]\n",
    "for fruit in fruits:\n",
    "    print(fruit)  # Iterates through the list and prints each fruit\n",
    "    for x in \"banana\":\n",
    "        print(x)  # Iterates through the string \"banana\" and prints each character"
   ]
  },
  {
   "cell_type": "code",
   "execution_count": 17,
   "id": "31972669",
   "metadata": {},
   "outputs": [
    {
     "name": "stdout",
     "output_type": "stream",
     "text": [
      "red apple\n",
      "red banana\n",
      "red cherry\n",
      "big apple\n",
      "big banana\n",
      "big cherry\n",
      "tasty apple\n",
      "tasty banana\n",
      "tasty cherry\n"
     ]
    }
   ],
   "source": [
    "adj= [\"red\", \"big\", \"tasty\"]\n",
    "fruits = [\"apple\", \"banana\", \"cherry\"]\n",
    "for x in adj:\n",
    "    for y in fruits:\n",
    "        print(x, y)  # Prints combinations of adjectives and fruits\n",
    "        # This will print each adjective with each fruit\n",
    "\n",
    "for x in [0, 1, 2]:\n",
    "    pass"
   ]
  },
  {
   "cell_type": "code",
   "execution_count": 5,
   "id": "cd9d3dc8",
   "metadata": {},
   "outputs": [
    {
     "name": "stdout",
     "output_type": "stream",
     "text": [
      "{'brand': 'Ford', 'year': 2020, 'model': 'swift'}\n",
      "{'brand': 'Ford', 'year': 2020}\n"
     ]
    }
   ],
   "source": [
    "#making a dictionary\n",
    "thisdict = {\n",
    "    \"brand\": \"Ford\",\n",
    "    \"model\": \"Mustang\",\n",
    "    \"year\": 1964\n",
    "}\n",
    "thisdict.pop(\"model\")  # Removes the key \"model\" from the dictionary\n",
    "thisdict.update({\"year\": 2020})  # Updates the value for the key \"year\"\n",
    "thisdict[\"model\"]= \"swift\"\n",
    "print(thisdict)  # Prints the updated dictionary\n",
    "thisdict.popitem()  # Removes the last inserted key-value pair from the dictionary\n",
    "print(thisdict)  # Prints the dictionary after removing the last item\n"
   ]
  },
  {
   "cell_type": "code",
   "execution_count": 15,
   "id": "75407a1d",
   "metadata": {},
   "outputs": [
    {
     "name": "stdout",
     "output_type": "stream",
     "text": [
      "The number is negative\n",
      "You are eligible to vote\n",
      "The number is between 10 and 20\n"
     ]
    }
   ],
   "source": [
    "number = -5\n",
    "if number >0:\n",
    "    print(\"The number is positive\")\n",
    "elif number == 0:\n",
    "    print(\"The number is zero\")\n",
    "else:\n",
    "    print(\"The number is negative\")\n",
    "\n",
    "    age= 19\n",
    "    if age < 18:\n",
    "        print (\" You are nit eligible to vote\")\n",
    "    elif age==18:\n",
    "        print(\"You should register\")\n",
    "    else:\n",
    "        print(\"You are eligible to vote\")\n",
    "\n",
    "        number = 13\n",
    "        if number >=10 and number <= 20:\n",
    "            print(\"The number is between 10 and 20\")\n",
    "        else:\n",
    "            print(\"The number is not between 10 and 20\")\n",
    "\n",
    "            username=input(\"Enter your username: \")\n",
    "            password=input(\"Enter your password: \")\n",
    "            if username==\"admin\" and password==\"1234\":\n",
    "                print(\"Access granted\")\n",
    "            else:\n",
    "                print(\"Access denied, please try again\")\n",
    "                \n"
   ]
  },
  {
   "cell_type": "code",
   "execution_count": 20,
   "id": "3b70373c",
   "metadata": {},
   "outputs": [
    {
     "name": "stdout",
     "output_type": "stream",
     "text": [
      "Grade: F\n"
     ]
    }
   ],
   "source": [
    "mark=59\n",
    "\n",
    "if mark>=90:\n",
    "    print(\"Grade: A\")\n",
    "elif mark>=80:\n",
    "    print(\"Grade: B\")\n",
    "elif mark>=70:\n",
    "    print(\"Grade: C\")\n",
    "elif mark>=60:\n",
    "    print(\"Grade: D\")\n",
    "elif mark<60:\n",
    "    print(\"Grade: F\")"
   ]
  },
  {
   "cell_type": "code",
   "execution_count": null,
   "id": "f440bec1",
   "metadata": {},
   "outputs": [
    {
     "name": "stdout",
     "output_type": "stream",
     "text": [
      "1\n",
      "2\n",
      "3\n",
      "4\n",
      "5\n"
     ]
    }
   ],
   "source": [
    "#loops\n",
    "i=1\n",
    "while i < 6:\n",
    "    print(i)  # Prints the value of i\n",
    "    i += 1  # Increments i by 1\n",
    "    "
   ]
  },
  {
   "cell_type": "code",
   "execution_count": 31,
   "id": "b1554723",
   "metadata": {},
   "outputs": [
    {
     "name": "stdout",
     "output_type": "stream",
     "text": [
      "1\n",
      "2\n",
      "4\n",
      "5\n",
      "6\n"
     ]
    }
   ],
   "source": [
    "i=0\n",
    "while i < 6:\n",
    "    i += 1  # Increments i by 1\n",
    "    if i == 3:\n",
    "        continue  \n",
    "    print(i)\n",
    "\n",
    "    "
   ]
  },
  {
   "cell_type": "code",
   "execution_count": 34,
   "id": "bffef7ee",
   "metadata": {},
   "outputs": [
    {
     "name": "stdout",
     "output_type": "stream",
     "text": [
      "4\n",
      "5\n",
      "i is no longer less than 6\n"
     ]
    }
   ],
   "source": [
    "i=4\n",
    "while i <6:\n",
    "    print(i)  # Prints the value of i\n",
    "    i += 1  # Increments i by 1\n",
    "else:\n",
    "    print(\"i is no longer less than 6\")"
   ]
  },
  {
   "cell_type": "code",
   "execution_count": 39,
   "id": "83db9544",
   "metadata": {},
   "outputs": [
    {
     "name": "stdout",
     "output_type": "stream",
     "text": [
      "Found the number 5 at index 4\n"
     ]
    }
   ],
   "source": [
    "list = [1, 2, 3, 4, 5]\n",
    "s = 5\n",
    "i = 0  # Initializes i to 0 for the while loop\n",
    "# This loop will search for the number s in the list\n",
    "while i < len(list):\n",
    "    if list[i] == s:\n",
    "        print(\"Found the number\", s, \"at index\", i)\n",
    "        break  # Exits the loop if the number is found\n",
    "    i += 1  # Increments i by 1\n",
    "else:\n",
    "    print(\"Number\", s, \"not found in the list\")"
   ]
  },
  {
   "cell_type": "code",
   "execution_count": 40,
   "id": "563a3728",
   "metadata": {},
   "outputs": [
    {
     "name": "stdout",
     "output_type": "stream",
     "text": [
      "apple\n",
      "banana\n",
      "cherry\n"
     ]
    }
   ],
   "source": [
    "fruits= [\"apple\", \"banana\", \"cherry\"]\n",
    "for fruit in fruits:\n",
    "    print(fruit)  # Iterates through the list and prints each fru"
   ]
  },
  {
   "cell_type": "code",
   "execution_count": 4,
   "id": "cda595aa",
   "metadata": {},
   "outputs": [
    {
     "name": "stdout",
     "output_type": "stream",
     "text": [
      "An error occurred. Please check your input.\n"
     ]
    }
   ],
   "source": [
    "try:\n",
    "    a = int(input(\"Enter a:\"))\n",
    "    b = int(input(\"Enter b:\"))\n",
    "    c = a / b\n",
    "    print(\"Result:\", c)\n",
    "except Exception as e:\n",
    "    print(\"An error occurred. Please check your input.\")\n"
   ]
  },
  {
   "cell_type": "code",
   "execution_count": 5,
   "id": "e6f206db",
   "metadata": {},
   "outputs": [
    {
     "name": "stdout",
     "output_type": "stream",
     "text": [
      "An error occurred. Please check your input.\n"
     ]
    }
   ],
   "source": [
    "try:\n",
    "    a=int(input(\"Enter a:\"))\n",
    "    b=int(input(\"Enter b:\"))\n",
    "    c=a/b\n",
    "    print(\"Result:\", c)\n",
    "except Exception as e:\n",
    "    print(\"An error occurred. Please check your input.\")\n",
    "else:\n",
    "    print(\"No errors occurred. The result is:\", c)\n"
   ]
  },
  {
   "cell_type": "code",
   "execution_count": 8,
   "id": "b082abf3",
   "metadata": {},
   "outputs": [
    {
     "name": "stdout",
     "output_type": "stream",
     "text": [
      "The file opened successfully\n"
     ]
    }
   ],
   "source": [
    "file1 = open(\"file1.txt\", \"w\")  # Opens a file in write mode\n",
    "file1.write(\"Hello, World!\")  # Writes a string to the file\n",
    "file1.close()  # Closes the file after writing\n",
    "\n",
    "try:\n",
    "    fileptr = open(\"file1.txt\", \"r\")  # Opens the file in read mode\n",
    "except IOError as e:\n",
    "    print(\"An error occurred while reading the file:\", e)\n",
    "else:\n",
    "    print(\"The file opened successfully\")\n",
    "    fileptr.close()\n",
    "\n"
   ]
  },
  {
   "cell_type": "code",
   "execution_count": 12,
   "id": "7ec7f90e",
   "metadata": {},
   "outputs": [
    {
     "name": "stdout",
     "output_type": "stream",
     "text": [
      "ERROR: not writable\n"
     ]
    }
   ],
   "source": [
    "\n",
    "file2 = open(\"file2.txt\", \"w\")  # Opens a file in write mode\n",
    "file2.write(\"Hello, World!\")  # Writes a string to the file\n",
    "file2.close()  # Closes the file after writing\n",
    "try:\n",
    "\n",
    "    fileptr = open(\"file2.txt\", \"r\")  # Opens a file in read mode\n",
    "    try:\n",
    "        fileptr.write(\"Hello, World!\")  # Attempts to write to the file\n",
    "    except Exception as e:\n",
    "        print(\"ERROR:\", e)\n",
    "    finally:\n",
    "        fileptr.close()\n",
    "except Exception as e:\n",
    "    print(\"ERROR:\", e)"
   ]
  },
  {
   "cell_type": "code",
   "execution_count": 8,
   "id": "2584df77",
   "metadata": {},
   "outputs": [
    {
     "name": "stdout",
     "output_type": "stream",
     "text": [
      "[{'STU ID': '1000', 'COURSE': 'DSA', 'NAME': 'TUTU', 'GENDER': 'F', 'AGE': '18'}, {'STU ID': '1001', 'COURSE': 'IRL', 'NAME': 'MARK', 'GENDER': 'M', 'AGE': '19'}, {'STU ID': '1002', 'COURSE': 'BUS', 'NAME': 'MICHEAL', 'GENDER': 'M', 'AGE': '20'}]\n"
     ]
    }
   ],
   "source": [
    "#importing a csv file\n",
    "import csv\n",
    "with open('Book1.csv') as csvfile:\n",
    "  m=list(csv.DictReader(csvfile))\n",
    "print(m[:3])"
   ]
  },
  {
   "cell_type": "code",
   "execution_count": null,
   "id": "45fd8ebc",
   "metadata": {},
   "outputs": [
    {
     "name": "stdout",
     "output_type": "stream",
     "text": [
      "[['STU ID', 'COURSE', 'NAME', 'GENDER', 'AGE'], ['1000', 'DSA', 'TUTU', 'F', '18'], ['1001', 'IRL', 'MARK', 'M', '19']]\n"
     ]
    }
   ],
   "source": [
    "#importing a csv file\n",
    "import csv\n",
    "with open('Book1.csv') as csvfile:\n",
    "    m = list(csv.reader(csvfile))\n",
    "print(m[:3])  # Prints the first three rows of the CSV file"
   ]
  },
  {
   "cell_type": "code",
   "execution_count": null,
   "id": "6b96a440",
   "metadata": {},
   "outputs": [],
   "source": [
    "#writing to a csv file\n",
    "with open('Book1.csv', 'w', newline='') as csvfile:\n",
    "    fieldnames=['STU ID','COURSE','NAME','GENDER', 'AGE' ]\n",
    "    writer = csv.DictWriter(csvfile, fieldnames=fieldnames)\n",
    "    writer.writeheader()  # Writes the header row to the CSV file\n",
    "    writer.writerow({'STU ID': '1', 'COURSE': 'Math', 'NAME': 'Alice','GENDER': 'F', 'AGE': 23})\n",
    "    writer.writerow({'STU ID': '2', 'COURSE': 'Science', 'NAME': 'Huda','GENDER': 'F', 'AGE': 22})\n",
    "    \n"
   ]
  },
  {
   "cell_type": "code",
   "execution_count": 1,
   "id": "c3675d30",
   "metadata": {},
   "outputs": [
    {
     "name": "stdout",
     "output_type": "stream",
     "text": [
      "['STU ID', 'COURSE', 'NAME', 'GENDER', 'AGE']\n",
      "['1', 'Math', 'Alice', 'F', '23']\n",
      "['2', 'Science', 'Huda', 'F', '22']\n"
     ]
    }
   ],
   "source": [
    "import csv\n",
    "f= open('Book1.csv')\n",
    "csv_f=csv.reader(f)\n",
    "for row in csv_f:\n",
    "    print(row)  # Prints each row of the CSV file"
   ]
  },
  {
   "cell_type": "code",
   "execution_count": null,
   "id": "117db736",
   "metadata": {},
   "outputs": [
    {
     "name": "stdout",
     "output_type": "stream",
     "text": [
      "['NAME', 'Alice', 'Huda']\n"
     ]
    }
   ],
   "source": [
    "#looping through rows in a CSV file and appending model numbers to a list\n",
    "import csv\n",
    "f= open('Book1.csv')\n",
    "csv_f=csv.reader(f)\n",
    "model_no= []\n",
    "for row in csv_f:\n",
    "    model_no.append(row[2])  # Appends the first column (model number) of each row to the list \n",
    "print(model_no)  # Prints the list of model numbers"
   ]
  },
  {
   "cell_type": "code",
   "execution_count": 3,
   "id": "ef4aa6e4",
   "metadata": {},
   "outputs": [
    {
     "name": "stdout",
     "output_type": "stream",
     "text": [
      "['STU ID', 'COURSE', 'NAME', 'GENDER', 'AGE']\n",
      "['1', 'Math', 'Alice', 'F', '23']\n",
      "['2', 'Science', 'Huda', 'F', '22']\n"
     ]
    }
   ],
   "source": [
    "#extracting info from a CSV file\n",
    "import csv\n",
    "f= open('Book1.csv')\n",
    "csv_f=csv.reader(f)\n",
    "for row in csv_f:\n",
    "    print(row)  # Prints each row of the CSV file\n",
    "    "
   ]
  },
  {
   "cell_type": "code",
   "execution_count": 4,
   "id": "bcfc5c16",
   "metadata": {},
   "outputs": [
    {
     "name": "stdout",
     "output_type": "stream",
     "text": [
      "{'Alice', 'NAME', 'Huda'}\n"
     ]
    }
   ],
   "source": [
    "#converting a csv file list to a set\n",
    "import csv\n",
    "f= open('Book1.csv')\n",
    "csv_f=csv.reader(f)\n",
    "model_no = []\n",
    "for row in csv_f:\n",
    "    model_no.append(row[2])  # Appends the first column (model number) of each row to the list\n",
    "print(set(model_no))  # Converts the list to a set and prints it, removing duplicates\n"
   ]
  },
  {
   "cell_type": "code",
   "execution_count": 2,
   "id": "9d76e24d",
   "metadata": {},
   "outputs": [
    {
     "name": "stdout",
     "output_type": "stream",
     "text": [
      "^C\n",
      "Note: you may need to restart the kernel to use updated packages.\n"
     ]
    },
    {
     "data": {
      "text/plain": [
       "0        tutu\n",
       "1    precious\n",
       "2        huda\n",
       "3      mariam\n",
       "dtype: object"
      ]
     },
     "execution_count": 2,
     "metadata": {},
     "output_type": "execute_result"
    },
    {
     "name": "stdout",
     "output_type": "stream",
     "text": [
      "Collecting pandas\n",
      "  Using cached pandas-2.3.1-cp313-cp313-win_amd64.whl.metadata (19 kB)\n",
      "Collecting numpy>=1.26.0 (from pandas)\n",
      "  Using cached numpy-2.3.1-cp313-cp313-win_amd64.whl.metadata (60 kB)\n",
      "Requirement already satisfied: python-dateutil>=2.8.2 in c:\\users\\user\\appdata\\roaming\\python\\python313\\site-packages (from pandas) (2.9.0.post0)\n",
      "Collecting pytz>=2020.1 (from pandas)\n",
      "  Using cached pytz-2025.2-py2.py3-none-any.whl.metadata (22 kB)\n",
      "Collecting tzdata>=2022.7 (from pandas)\n",
      "  Using cached tzdata-2025.2-py2.py3-none-any.whl.metadata (1.4 kB)\n",
      "Requirement already satisfied: six>=1.5 in c:\\users\\user\\appdata\\roaming\\python\\python313\\site-packages (from python-dateutil>=2.8.2->pandas) (1.17.0)\n",
      "Using cached pandas-2.3.1-cp313-cp313-win_amd64.whl (11.0 MB)\n",
      "Using cached numpy-2.3.1-cp313-cp313-win_amd64.whl (12.7 MB)\n",
      "Using cached pytz-2025.2-py2.py3-none-any.whl (509 kB)\n",
      "Using cached tzdata-2025.2-py2.py3-none-any.whl (347 kB)\n",
      "Installing collected packages: pytz, tzdata, numpy, pandas\n",
      "Successfully installed numpy-2.3.1 pandas-2.3.1 pytz-2025.2 tzdata-2025.2\n"
     ]
    },
    {
     "name": "stderr",
     "output_type": "stream",
     "text": [
      "  WARNING: The scripts f2py.exe and numpy-config.exe are installed in 'c:\\Users\\User\\AppData\\Local\\Programs\\Python\\Python313\\Scripts' which is not on PATH.\n",
      "  Consider adding this directory to PATH or, if you prefer to suppress this warning, use --no-warn-script-location.\n",
      "\n",
      "[notice] A new release of pip is available: 24.3.1 -> 25.1.1\n",
      "[notice] To update, run: python.exe -m pip install --upgrade pip\n"
     ]
    }
   ],
   "source": [
    "\n",
    "%pip install pandas\n",
    "\n",
    "#creating a series with an arbitrary list\n",
    "import pandas as pd  # Importing the pandas library for data manipulation\n",
    "names=[\"tutu\", \"precious\", \"huda\", \"mariam\"]\n",
    "pd.Series(names)  # Creates a Pandas Series from the list of names"
   ]
  },
  {
   "cell_type": "code",
   "execution_count": 3,
   "id": "50342861",
   "metadata": {},
   "outputs": [
    {
     "data": {
      "text/plain": [
       "student1        tutu\n",
       "student2    precious\n",
       "student3        huda\n",
       "student4      mariam\n",
       "dtype: object"
      ]
     },
     "execution_count": 3,
     "metadata": {},
     "output_type": "execute_result"
    }
   ],
   "source": [
    "import pandas as pd\n",
    "names=[\"tutu\", \"precious\", \"huda\", \"mariam\"]\n",
    "pd.Series(names,index=[\"student1\", \"student2\", \"student3\", \"student4\"])  # Creates a Pandas Series with custom indices"
   ]
  },
  {
   "cell_type": "code",
   "execution_count": 4,
   "id": "d5014424",
   "metadata": {},
   "outputs": [
    {
     "data": {
      "text/plain": [
       "0        tutu\n",
       "1    precious\n",
       "2        huda\n",
       "3        None\n",
       "dtype: object"
      ]
     },
     "execution_count": 4,
     "metadata": {},
     "output_type": "execute_result"
    }
   ],
   "source": [
    "names=[\"tutu\", \"precious\", \"huda\", None]\n",
    "pd.Series(names)\n"
   ]
  },
  {
   "cell_type": "code",
   "execution_count": 5,
   "id": "a8ab34ed",
   "metadata": {},
   "outputs": [
    {
     "data": {
      "text/plain": [
       "0    26.0\n",
       "1    11.0\n",
       "2    33.0\n",
       "3     NaN\n",
       "dtype: float64"
      ]
     },
     "execution_count": 5,
     "metadata": {},
     "output_type": "execute_result"
    }
   ],
   "source": [
    "number=[26,11,33,None]\n",
    "pd.Series(number)  # Creates a Pandas Series from the list of numbers, including None as a missing value"
   ]
  },
  {
   "cell_type": "code",
   "execution_count": 7,
   "id": "ae4b3ab3",
   "metadata": {},
   "outputs": [
    {
     "name": "stdout",
     "output_type": "stream",
     "text": [
      "huda\n",
      "precious\n"
     ]
    }
   ],
   "source": [
    "#querrying a series\n",
    "import pandas as pd\n",
    "names=[\"tutu\", \"precious\", \"huda\", \"mariam\"]\n",
    "s = pd.Series(names, index=[\"student1\", \"student2\", \"student3\", \"student4\"])  # Creates a Pandas Series with custom indices\n",
    "print(s.iloc[2])  # Access by integer index\n",
    "print(s.loc[\"student2\"])  # Access by label/index name\n"
   ]
  },
  {
   "cell_type": "code",
   "execution_count": 10,
   "id": "9e265d9d",
   "metadata": {},
   "outputs": [
    {
     "name": "stdout",
     "output_type": "stream",
     "text": [
      "student1        tutu\n",
      "student2    precious\n",
      "student3        huda\n",
      "student4      mariam\n",
      "dtype: object\n",
      "student1        tutu\n",
      "student2    precious\n",
      "student3        huda\n",
      "student4      mariam\n",
      "dtype: object\n"
     ]
    }
   ],
   "source": [
    "#structured array\n",
    "import pandas as pd\n",
    "names=[\"tutu\", \"precious\", \"huda\", \"mariam\"]    \n",
    "s = pd.Series(names, index=[\"student1\", \"student2\", \"student3\", \"student4\"])  # Creates a Pandas Series with custom indices\n",
    "print(s)  # Prints the structured array (Series)\n",
    "\n",
    "#record array\n",
    "import pandas as pd\n",
    "names=[\"tutu\", \"precious\", \"huda\", \"mariam\"]\n",
    "s = pd.Series(names, index=[\"student1\", \"student2\", \"student3\", \"student4\"])  # Creates a Pandas Series with custom indices\n",
    "print(s)  # Prints the record array (Series)            "
   ]
  },
  {
   "cell_type": "code",
   "execution_count": 8,
   "id": "d18a5cdb",
   "metadata": {},
   "outputs": [
    {
     "name": "stdout",
     "output_type": "stream",
     "text": [
      "                   A         B         C         D\n",
      "2013-01-01  0.226709 -0.367341  0.022288  0.174878\n",
      "2013-01-02 -0.870312  1.169154  0.236264 -0.211835\n",
      "2013-01-03 -1.173546  1.144984  0.278756  1.319406\n",
      "2013-01-04 -0.613631 -1.264997 -0.768644 -0.382101\n",
      "2013-01-05 -0.070511 -0.063464  0.348483 -1.172451\n",
      "2013-01-06  0.882244 -1.059933  0.298379  0.618630\n"
     ]
    }
   ],
   "source": [
    "import pandas as pd  # Import pandas for DataFrame operations\n",
    "#creating a DataFrame\n",
    "import numpy as np  # Importing the NumPy library for numerical operations\n",
    "dates = pd.date_range('20130101', periods=6)  # Generates a date range starting from '2013-01-01' for 6 periods\n",
    "df = pd.DataFrame(np.random.randn(6, 4), index=dates, columns=list('ABCD'))  # Creates a DataFrame with random numbers\n",
    "print(df)  # Prints the DataFrame\n",
    "\n"
   ]
  },
  {
   "cell_type": "code",
   "execution_count": null,
   "id": "8e297b69",
   "metadata": {},
   "outputs": [
    {
     "name": "stdout",
     "output_type": "stream",
     "text": [
      "        Student Purchase  Price\n",
      "Shop1      tutu   laptop  50000\n",
      "Shop2  precious    phone  30000\n",
      "Shop3      huda   tablet  20000\n",
      "      Student Name Item Purchased   Cost\n",
      "Shop1         tutu         laptop  50000\n",
      "Shop2     precious          phone  30000\n",
      "Shop3         huda         tablet  20000\n",
      "      Student Name Item Purchased\n",
      "Shop1         tutu         laptop\n",
      "Shop2     precious          phone\n",
      "Shop3         huda         tablet\n"
     ]
    }
   ],
   "source": [
    "#creating a DataFrame\n",
    "import pandas as pd  # Import pandas for DataFrame operations\n",
    "names=pd.Series({\"Student\": \"tutu\", \"Purchase\": \"laptop\", \"Price\": 50000})  # Creates a Pandas Series with a dictionary\n",
    "names_1= pd.Series({\"Student\": \"precious\", \"Purchase\": \"phone\", \"Price\": 30000})  # Creates another Pandas Series with a different dictionary\n",
    "names_2= pd.Series({\"Student\": \"huda\", \"Purchase\": \"tablet\", \"Price\": 20000})  # Creates a third Pandas Series\n",
    "df= pd.DataFrame([names, names_1, names_2] , index=['Shop1', 'Shop2', 'Shop3'])  # Creates a DataFrame from the Series\n",
    "print(df)  # Prints the DataFrame containing the purchase information\n",
    "df.head()\n",
    "#extracting values from a DataFrame\n",
    "df.loc[\"Shop2\",\"Student\"]\n",
    "df.loc['Shop2']  # Accesses the DataFrame using label-based indexing\n",
    "df.rename(columns={\"Student\":\"Student Name\", \"Purchase\":\"Item Purchased\", \"Price\":\"Cost\"},inplace=True )  # Renames columns in the DataFrame\n",
    "print(df) \n",
    "data=df.where(df[\"Cost\"]>25000)  # Filters the DataFrame to include only rows where the \"Cost\" is greater than 25000\n",
    "df.drop(\"Cost\",axis=1, inplace=True)  # Drops the \"Cost\" column from the DataFrame\n",
    "print(df)  # Prints the DataFrame after dropping the column\n",
    "\n",
    "\n"
   ]
  },
  {
   "cell_type": "code",
   "execution_count": null,
   "id": "6a9fa921",
   "metadata": {},
   "outputs": [
    {
     "name": "stdout",
     "output_type": "stream",
     "text": [
      "excellent    A+\n",
      "excellent     A\n",
      "good         B+\n",
      "good          B\n",
      "average      C+\n",
      "Name: Grades, dtype: category\n",
      "Categories (6, object): ['A', 'A+', 'B', 'B+', 'C', 'C+']\n"
     ]
    }
   ],
   "source": [
    "# nominal scales\n",
    "import csv\n",
    "import pandas as pd\n",
    "df=pd.DataFrame([\"A+\",\"A\", \"B+\", \"B\", \"C+\", \"C\",], index=['excellent','excellent','good','good','average','average'])  # Creates a DataFrame with grades\n",
    "df.rename(columns={0:\"Grades\"}, inplace=True)  # Renames the column to \"Grades\"\n",
    "a=df['Grades'].astype('category').head()  # Converts the \"Grades\" column to a categorical type and displays the first few entries\n",
    "print(a)  # Prints the first few entries of the \"Grades\" column as a categorical type\n"
   ]
  },
  {
   "cell_type": "code",
   "execution_count": 6,
   "id": "d81882ef",
   "metadata": {},
   "outputs": [
    {
     "name": "stdout",
     "output_type": "stream",
     "text": [
      "['A+', 'A', 'B+', 'B', 'C+', 'C']\n",
      "Categories (6, object): ['A+' < 'A' < 'B+' < 'B' < 'C+' < 'C']\n"
     ]
    }
   ],
   "source": [
    "#ordinal scales\n",
    "import csv \n",
    "import pandas as pd  # Importing the pandas library for data manipulation\n",
    "df=pd.DataFrame([\"A+\",\"A\", \"B+\", \"B\", \"C+\", \"C\",], index=['excellent','excellent','good','good','average','average'])  # Creates a DataFrame with grades\n",
    "df.rename(columns={0:\"Grades\"}, inplace=True)  # Renames the column to \"Grades\"\n",
    "grades = pd.Categorical(df['Grades'], categories=['A+','A','B+','B','C+','C'], ordered=True)\n",
    "print(grades)  # Prints the \"Grades\" column as an ordered categorical type\n"
   ]
  },
  {
   "cell_type": "code",
   "execution_count": null,
   "id": "99dd2d6f",
   "metadata": {},
   "outputs": [
    {
     "name": "stdout",
     "output_type": "stream",
     "text": [
      "COURSE   Math Science\n",
      "STU ID               \n",
      "1       Alice     NaN\n",
      "2         NaN    Huda\n"
     ]
    }
   ],
   "source": [
    "#pivot table\n",
    "import pandas as pd  # Importing the pandas library for data manipulation\n",
    "import numpy as np  # Importing the NumPy library for numerical operations\n",
    "df=pd.read_csv('Book1.csv')  # Reads a CSV file into a DataFrame\n",
    "a= df.pivot_table(index='STU ID', columns='COURSE', values='NAME', aggfunc='first')  # Creates a pivot table from the DataFrame\n",
    "print(a)  # Prints the pivot table"
   ]
  },
  {
   "cell_type": "code",
   "execution_count": 9,
   "id": "c3702d39",
   "metadata": {},
   "outputs": [
    {
     "data": {
      "text/plain": [
       "Period('2025-10', 'M')"
      ]
     },
     "execution_count": 9,
     "metadata": {},
     "output_type": "execute_result"
    }
   ],
   "source": [
    "#creating a time stamp\n",
    "import pandas as pd\n",
    "import numpy as np\n",
    "pd.Timestamp('2025-10-01 03:22AM')  # Creates a timestamp for October 1, 2025\n",
    "\n",
    "pd.Period('2025-10')  # Creates a period for October 2025\n"
   ]
  },
  {
   "cell_type": "code",
   "execution_count": 10,
   "id": "7e2e419f",
   "metadata": {},
   "outputs": [
    {
     "name": "stdout",
     "output_type": "stream",
     "text": [
      "2025-10-01 03:22:00    a\n",
      "2025-10-02 04:22:00    b\n",
      "2025-10-03 05:22:00    c\n",
      "dtype: object\n"
     ]
    }
   ],
   "source": [
    "t1=pd.Series(list('abc'),[pd.Timestamp('2025-10-01 03:22AM'), pd.Timestamp('2025-10-02 04:22AM'), pd.Timestamp('2025-10-03 05:22AM')])  # Creates a Series with timestamps as indices\n",
    "print(t1)  # Prints the Series with timestamps"
   ]
  },
  {
   "cell_type": "code",
   "execution_count": null,
   "id": "8353e80f",
   "metadata": {},
   "outputs": [
    {
     "name": "stdout",
     "output_type": "stream",
     "text": [
      "         Age\n",
      "Name        \n",
      "Alice     25\n",
      "Bob       30\n",
      "Charlie   35\n",
      "      Grade\n",
      "Name       \n",
      "Alice     A\n",
      "Bob       B\n",
      "David     C\n"
     ]
    },
    {
     "data": {
      "text/html": [
       "<div>\n",
       "<style scoped>\n",
       "    .dataframe tbody tr th:only-of-type {\n",
       "        vertical-align: middle;\n",
       "    }\n",
       "\n",
       "    .dataframe tbody tr th {\n",
       "        vertical-align: top;\n",
       "    }\n",
       "\n",
       "    .dataframe thead th {\n",
       "        text-align: right;\n",
       "    }\n",
       "</style>\n",
       "<table border=\"1\" class=\"dataframe\">\n",
       "  <thead>\n",
       "    <tr style=\"text-align: right;\">\n",
       "      <th></th>\n",
       "      <th>Age</th>\n",
       "      <th>Grade</th>\n",
       "    </tr>\n",
       "    <tr>\n",
       "      <th>Name</th>\n",
       "      <th></th>\n",
       "      <th></th>\n",
       "    </tr>\n",
       "  </thead>\n",
       "  <tbody>\n",
       "    <tr>\n",
       "      <th>Alice</th>\n",
       "      <td>25.0</td>\n",
       "      <td>A</td>\n",
       "    </tr>\n",
       "    <tr>\n",
       "      <th>Bob</th>\n",
       "      <td>30.0</td>\n",
       "      <td>B</td>\n",
       "    </tr>\n",
       "    <tr>\n",
       "      <th>Charlie</th>\n",
       "      <td>35.0</td>\n",
       "      <td>NaN</td>\n",
       "    </tr>\n",
       "    <tr>\n",
       "      <th>David</th>\n",
       "      <td>NaN</td>\n",
       "      <td>C</td>\n",
       "    </tr>\n",
       "  </tbody>\n",
       "</table>\n",
       "</div>"
      ],
      "text/plain": [
       "          Age Grade\n",
       "Name               \n",
       "Alice    25.0     A\n",
       "Bob      30.0     B\n",
       "Charlie  35.0   NaN\n",
       "David     NaN     C"
      ]
     },
     "execution_count": 13,
     "metadata": {},
     "output_type": "execute_result"
    },
    {
     "ename": "",
     "evalue": "",
     "output_type": "error",
     "traceback": [
      "\u001b[1;31mThe Kernel crashed while executing code in the current cell or a previous cell. \n",
      "\u001b[1;31mPlease review the code in the cell(s) to identify a possible cause of the failure. \n",
      "\u001b[1;31mClick <a href='https://aka.ms/vscodeJupyterKernelCrash'>here</a> for more info. \n",
      "\u001b[1;31mView Jupyter <a href='command:jupyter.viewOutput'>log</a> for further details."
     ]
    }
   ],
   "source": [
    "#MERGING DATAFRAMES\n",
    "staff_df = pd.DataFrame({'Name': ['Alice', 'Bob', 'Charlie'], 'Age': [25, 30, 35]})  # Creates a DataFrame for staff\n",
    "staff_df.set_index('Name', inplace=True)  # Sets the 'Name' column as the index\n",
    "student_df = pd.DataFrame({'Name': ['Alice', 'Bob', 'David'], 'Grade': ['A', 'B', 'C']})  # Creates a DataFrame for students\n",
    "student_df.set_index('Name', inplace=True)  # Sets the 'Name' column as the index\n",
    "print(staff_df)  # Prints the staff DataFrame\n",
    "print(student_df)  # Prints the student DataFrame\n",
    "\n",
    "pd.merge(staff_df, student_df, left_index=True, right_index=True, how='outer')  # Merges the two DataFrames on their indices"
   ]
  },
  {
   "cell_type": "code",
   "execution_count": 3,
   "id": "eb7eec78",
   "metadata": {},
   "outputs": [
    {
     "name": "stdout",
     "output_type": "stream",
     "text": [
      "Collecting matplotlib\n",
      "  Using cached matplotlib-3.10.3-cp313-cp313-win_amd64.whl.metadata (11 kB)\n",
      "Collecting contourpy>=1.0.1 (from matplotlib)\n",
      "  Using cached contourpy-1.3.3-cp313-cp313-win_amd64.whl.metadata (5.5 kB)\n",
      "Collecting cycler>=0.10 (from matplotlib)\n",
      "  Using cached cycler-0.12.1-py3-none-any.whl.metadata (3.8 kB)\n",
      "Collecting fonttools>=4.22.0 (from matplotlib)\n",
      "  Using cached fonttools-4.59.0-cp313-cp313-win_amd64.whl.metadata (110 kB)\n",
      "Collecting kiwisolver>=1.3.1 (from matplotlib)\n",
      "  Using cached kiwisolver-1.4.8-cp313-cp313-win_amd64.whl.metadata (6.3 kB)\n",
      "Requirement already satisfied: numpy>=1.23 in c:\\users\\user\\appdata\\local\\programs\\python\\python313\\lib\\site-packages (from matplotlib) (2.3.1)\n",
      "Requirement already satisfied: packaging>=20.0 in c:\\users\\user\\appdata\\roaming\\python\\python313\\site-packages (from matplotlib) (25.0)\n",
      "Collecting pillow>=8 (from matplotlib)\n",
      "  Using cached pillow-11.3.0-cp313-cp313-win_amd64.whl.metadata (9.2 kB)\n",
      "Collecting pyparsing>=2.3.1 (from matplotlib)\n",
      "  Using cached pyparsing-3.2.3-py3-none-any.whl.metadata (5.0 kB)\n",
      "Requirement already satisfied: python-dateutil>=2.7 in c:\\users\\user\\appdata\\roaming\\python\\python313\\site-packages (from matplotlib) (2.9.0.post0)\n",
      "Requirement already satisfied: six>=1.5 in c:\\users\\user\\appdata\\roaming\\python\\python313\\site-packages (from python-dateutil>=2.7->matplotlib) (1.17.0)\n",
      "Using cached matplotlib-3.10.3-cp313-cp313-win_amd64.whl (8.1 MB)\n",
      "Using cached contourpy-1.3.3-cp313-cp313-win_amd64.whl (226 kB)\n",
      "Using cached cycler-0.12.1-py3-none-any.whl (8.3 kB)\n",
      "Using cached fonttools-4.59.0-cp313-cp313-win_amd64.whl (2.2 MB)\n",
      "Using cached kiwisolver-1.4.8-cp313-cp313-win_amd64.whl (71 kB)\n",
      "Using cached pillow-11.3.0-cp313-cp313-win_amd64.whl (7.0 MB)\n",
      "Using cached pyparsing-3.2.3-py3-none-any.whl (111 kB)\n",
      "Installing collected packages: pyparsing, pillow, kiwisolver, fonttools, cycler, contourpy, matplotlib\n",
      "Successfully installed contourpy-1.3.3 cycler-0.12.1 fonttools-4.59.0 kiwisolver-1.4.8 matplotlib-3.10.3 pillow-11.3.0 pyparsing-3.2.3\n",
      "Note: you may need to restart the kernel to use updated packages.\n"
     ]
    },
    {
     "name": "stderr",
     "output_type": "stream",
     "text": [
      "  WARNING: The scripts fonttools.exe, pyftmerge.exe, pyftsubset.exe and ttx.exe are installed in 'c:\\Users\\User\\AppData\\Local\\Programs\\Python\\Python313\\Scripts' which is not on PATH.\n",
      "  Consider adding this directory to PATH or, if you prefer to suppress this warning, use --no-warn-script-location.\n",
      "\n",
      "[notice] A new release of pip is available: 24.3.1 -> 25.2\n",
      "[notice] To update, run: python.exe -m pip install --upgrade pip\n"
     ]
    },
    {
     "data": {
      "image/png": "[encoded data removed]",
      "text/plain": [
       "<Figure size 640x480 with 1 Axes>"
      ]
     },
     "metadata": {},
     "output_type": "display_data"
    }
   ],
   "source": [
    "%pip install matplotlib\n",
    "\n",
    "#line plot\n",
    "import matplotlib.pyplot as plt  # Importing the matplotlib library for plotting\n",
    "x = [1, 2, 3, 4, 5]  # X-axis data\n",
    "y = [2, 3, 5, 7, 11]  # Y-axis data\n",
    "plt.plot(x, y)  # Plots the line graph with x and y data\n",
    "plt.show()  # Displays the plot\n"
   ]
  },
  {
   "cell_type": "code",
   "execution_count": 25,
   "id": "dc4e56c3",
   "metadata": {},
   "outputs": [
    {
     "data": {
      "image/png": "[encoded data removed]",
      "text/plain": [
       "<Figure size 640x480 with 1 Axes>"
      ]
     },
     "metadata": {},
     "output_type": "display_data"
    }
   ],
   "source": [
    "#bar plot\n",
    "import matplotlib.image as mpimg   # Importing the matplotlib library for plotting\n",
    "x = ['A', 'B', 'C', 'D']  # Categories for the bar plot\n",
    "y = [3, 7, 2, 5]  # Values corresponding to each category\n",
    "plt.bar(x, y)  # Creates a bar plot with x as categories and y as values\n",
    "plt.show()  # Displays the bar plot"
   ]
  },
  {
   "cell_type": "code",
   "execution_count": 6,
   "id": "124e58fb",
   "metadata": {},
   "outputs": [
    {
     "data": {
      "image/png": "[encoded data removed]",
      "text/plain": [
       "<Figure size 640x480 with 1 Axes>"
      ]
     },
     "metadata": {},
     "output_type": "display_data"
    }
   ],
   "source": [
    "#histogram\n",
    "import matplotlib.pyplot as plt  # Importing the matplotlib library for plotting\n",
    "data = [1, 2, 2, 3, 3, 3, 4, 4, 4, 4]  # Sample data for the histogram\n",
    "plt.hist(data)\n",
    "plt.show()  # Displays the histogram plot"
   ]
  },
  {
   "cell_type": "code",
   "execution_count": 7,
   "id": "d1209f14",
   "metadata": {},
   "outputs": [
    {
     "data": {
      "image/png": "[encoded data removed]",
      "text/plain": [
       "<Figure size 640x480 with 1 Axes>"
      ]
     },
     "metadata": {},
     "output_type": "display_data"
    }
   ],
   "source": [
    "#scatter plot\n",
    "import matplotlib.pyplot as plt  # Importing the matplotlib library for plotting\n",
    "x = [1, 2, 3, 4, 5]  # X-axis data\n",
    "y = [2, 3, 5, 7, 11]  # Y-axis data\n",
    "plt.scatter(x, y)  # Creates a scatter plot with x and y data\n",
    "plt.show()  # Displays the scatter plot"
   ]
  },
  {
   "cell_type": "code",
   "execution_count": 10,
   "id": "c635472d",
   "metadata": {},
   "outputs": [
    {
     "data": {
      "image/png": "[encoded data removed]",
      "text/plain": [
       "<Figure size 640x480 with 1 Axes>"
      ]
     },
     "metadata": {},
     "output_type": "display_data"
    },
    {
     "data": {
      "text/plain": [
       "Text(0, 0.5, 'Y-axis')"
      ]
     },
     "execution_count": 10,
     "metadata": {},
     "output_type": "execute_result"
    },
    {
     "data": {
      "image/png": "[encoded data removed]",
      "text/plain": [
       "<Figure size 640x480 with 1 Axes>"
      ]
     },
     "metadata": {},
     "output_type": "display_data"
    }
   ],
   "source": [
    "#functional approach\n",
    "import numpy as np  # Importing the NumPy library for numerical operations\n",
    "x=np.linspace(0, 10, 20) # Generates 20 evenly spaced values between 0 and 10\n",
    "\n",
    "# To fix the error, x and y must have the same length.\n",
    "# Let's generate y as a function of x, for example y = x**2\n",
    "import matplotlib.pyplot as plt\n",
    "y = x**2\n",
    "plt.plot(x, y)\n",
    "plt.show()\n",
    "plt.title(\"Line Plot of y = x^2\")  # Sets the title of the plot\n",
    "plt.xlabel(\"X-axis\")  # Sets the label for the x-axis\n",
    "plt.ylabel(\"Y-axis\")  # Sets the label for the y-axis"
   ]
  },
  {
   "cell_type": "code",
   "execution_count": 11,
   "id": "b16ba901",
   "metadata": {},
   "outputs": [
    {
     "data": {
      "image/png": "[encoded data removed]",
      "text/plain": [
       "<Figure size 640x480 with 2 Axes>"
      ]
     },
     "metadata": {},
     "output_type": "display_data"
    }
   ],
   "source": [
    "#subplots\n",
    "plt.subplot(2, 1, 1)  # Creates a subplot in a 2x1 grid, first subplot\n",
    "plt.plot(x, y,\"red\")  # Plots the line graph in the first subplot\n",
    "plt.subplot(2, 1, 2)  # Creates a subplot in a 2x1 grid, second subplot\n",
    "plt.plot(x, y, \"blue\")  # Plots the line graph in the second subplot\n",
    "plt.show()  # Displays the subplots"
   ]
  },
  {
   "cell_type": "code",
   "execution_count": 15,
   "id": "6bebbd03",
   "metadata": {},
   "outputs": [
    {
     "data": {
      "text/plain": [
       "Text(0.5, 1.0, 'Line Plot of y = x^2')"
      ]
     },
     "execution_count": 15,
     "metadata": {},
     "output_type": "execute_result"
    },
    {
     "data": {
      "image/png": "[encoded data removed]",
      "text/plain": [
       "<Figure size 640x480 with 1 Axes>"
      ]
     },
     "metadata": {},
     "output_type": "display_data"
    }
   ],
   "source": [
    "#object oriented method\n",
    "fig = plt.figure()  # Creates a new figure\n",
    "ax1 = fig.add_subplot(2, 1, 1)  # Adds a subplot in a 2x1 grid, first subplot\n",
    "ax1.plot(x, y, \"red\")  # Plots the line graph in the first subplot\n",
    "ax1.set_xlabel(\"X-axis\")  # Sets the label for the x-axis in the first subplot\n",
    "ax1.set_ylabel(\"Y-axis\")  # Sets the label for the y-axis in the first subplot\n",
    "ax1.set_title(\"Line Plot of y = x^2\")  # Sets the title for the first subplot\n",
    "# Adds another subplot in the same position\n"
   ]
  },
  {
   "cell_type": "code",
   "execution_count": 19,
   "id": "387e5499",
   "metadata": {},
   "outputs": [
    {
     "data": {
      "image/png": "[encoded data removed]",
      "text/plain": [
       "<Figure size 640x480 with 2 Axes>"
      ]
     },
     "metadata": {},
     "output_type": "display_data"
    }
   ],
   "source": [
    "#figure in figure\n",
    "fig=plt.figure()  # Creates a new figure\n",
    "ax2 = fig.add_axes([0.1, 0.1, 0.8, 0.8])  # Adds an axes occupying most of the figure\n",
    "ax1 = fig.add_axes([0.2, 0.5, 0.4, 0.3])  # Adds a smaller axes inside ax2"
   ]
  },
  {
   "cell_type": "code",
   "execution_count": 20,
   "id": "4ada4f35",
   "metadata": {},
   "outputs": [
    {
     "data": {
      "image/png": "[encoded data removed]",
      "text/plain": [
       "<Figure size 640x480 with 9 Axes>"
      ]
     },
     "metadata": {},
     "output_type": "display_data"
    }
   ],
   "source": [
    "#3 by 3\n",
    "fig, axs = plt.subplots(3, 3)  # Creates a 3x3 grid of subplots"
   ]
  },
  {
   "cell_type": "code",
   "execution_count": 23,
   "id": "64f2335e",
   "metadata": {},
   "outputs": [
    {
     "data": {
      "text/plain": [
       "[<matplotlib.lines.Line2D at 0x24f1d795a90>]"
      ]
     },
     "execution_count": 23,
     "metadata": {},
     "output_type": "execute_result"
    },
    {
     "data": {
      "image/png": "[encoded data removed]",
      "text/plain": [
       "<Figure size 640x480 with 9 Axes>"
      ]
     },
     "metadata": {},
     "output_type": "display_data"
    }
   ],
   "source": [
    "fig,ax=plt.subplots(3, 3)  # Creates a 3x3 grid of subplots\n",
    "ax[0, 0].plot(x, y, \"red\")  # Plots in the first subplot (top-left)\n",
    "ax[0, 1].plot(x, y, \"blue\")  # Plots\n",
    "ax[0, 2].plot(x, y, \"green\")  # Plots in the first row, third column\n",
    "ax[1, 0].plot(x, y, \"orange\")  # Plots in the second row, first column\n",
    "ax[1, 1].plot(x, y, \"purple\")  # Plots\n",
    "ax[1, 2].plot(x, y, \"brown\")  # Plots in the second row, third column\n",
    "ax[2, 0].plot(x, y, \"pink\")  # Plots\n",
    "ax[2, 1].plot(x, y, \"cyan\")  # Plots in the third row, second column\n",
    "ax[2, 2].plot(x, y, \"black\")  # Plots"
   ]
  },
  {
   "cell_type": "code",
   "execution_count": 29,
   "id": "307f9511",
   "metadata": {},
   "outputs": [
    {
     "data": {
      "text/plain": [
       "<matplotlib.legend.Legend at 0x24f17f106e0>"
      ]
     },
     "execution_count": 29,
     "metadata": {},
     "output_type": "execute_result"
    },
    {
     "data": {
      "image/png": "[encoded data removed]",
      "text/plain": [
       "<Figure size 480x360 with 1 Axes>"
      ]
     },
     "metadata": {},
     "output_type": "display_data"
    }
   ],
   "source": [
    "#legends\n",
    "fig=plt.figure(figsize=(8,6),dpi=60)  # Creates a new figure\n",
    "ax1 = fig.add_subplot(2, 1, 1)  # Adds a subplot in a 2x1 grid, first subplot\n",
    "ax1.plot(x, y, \"red\", label=\"y = x^2\")  # Plots the line graph in the first subplot with a label\n",
    "ax1.set_xlabel(\"X-axis\")  # Sets the label for the x-axis in the first subplot\n",
    "ax1.set_ylabel(\"Y-axis\")  # Sets the label for the y-axis in the first subplot\n",
    "ax1.set_title(\"Line Plot of y = x^2\")  # Sets the title for the first subplot\n",
    "ax1.legend()  # Displays the legend for the first subplot"
   ]
  },
  {
   "cell_type": "code",
   "execution_count": 3,
   "id": "f1dc3778",
   "metadata": {},
   "outputs": [
    {
     "name": "stdout",
     "output_type": "stream",
     "text": [
      "Collecting nbformat\n",
      "  Downloading nbformat-5.10.4-py3-none-any.whl.metadata (3.6 kB)\n",
      "Collecting fastjsonschema>=2.15 (from nbformat)\n",
      "  Downloading fastjsonschema-2.21.1-py3-none-any.whl.metadata (2.2 kB)\n",
      "Collecting jsonschema>=2.6 (from nbformat)\n",
      "  Downloading jsonschema-4.25.0-py3-none-any.whl.metadata (7.7 kB)\n",
      "Requirement already satisfied: jupyter-core!=5.0.*,>=4.12 in c:\\users\\user\\appdata\\roaming\\python\\python313\\site-packages (from nbformat) (5.7.2)\n",
      "Requirement already satisfied: traitlets>=5.1 in c:\\users\\user\\appdata\\roaming\\python\\python313\\site-packages (from nbformat) (5.14.3)\n",
      "Collecting attrs>=22.2.0 (from jsonschema>=2.6->nbformat)\n",
      "  Downloading attrs-25.3.0-py3-none-any.whl.metadata (10 kB)\n",
      "Collecting jsonschema-specifications>=2023.03.6 (from jsonschema>=2.6->nbformat)\n",
      "  Downloading jsonschema_specifications-2025.4.1-py3-none-any.whl.metadata (2.9 kB)\n",
      "Collecting referencing>=0.28.4 (from jsonschema>=2.6->nbformat)\n",
      "  Downloading referencing-0.36.2-py3-none-any.whl.metadata (2.8 kB)\n",
      "Collecting rpds-py>=0.7.1 (from jsonschema>=2.6->nbformat)\n",
      "  Downloading rpds_py-0.26.0-cp313-cp313-win_amd64.whl.metadata (4.3 kB)\n",
      "Requirement already satisfied: platformdirs>=2.5 in c:\\users\\user\\appdata\\roaming\\python\\python313\\site-packages (from jupyter-core!=5.0.*,>=4.12->nbformat) (4.3.8)\n",
      "Requirement already satisfied: pywin32>=300 in c:\\users\\user\\appdata\\roaming\\python\\python313\\site-packages (from jupyter-core!=5.0.*,>=4.12->nbformat) (310)\n",
      "Downloading nbformat-5.10.4-py3-none-any.whl (78 kB)\n",
      "Downloading fastjsonschema-2.21.1-py3-none-any.whl (23 kB)\n",
      "Downloading jsonschema-4.25.0-py3-none-any.whl (89 kB)\n",
      "Downloading attrs-25.3.0-py3-none-any.whl (63 kB)\n",
      "Downloading jsonschema_specifications-2025.4.1-py3-none-any.whl (18 kB)\n",
      "Downloading referencing-0.36.2-py3-none-any.whl (26 kB)\n",
      "Downloading rpds_py-0.26.0-cp313-cp313-win_amd64.whl (234 kB)\n",
      "Installing collected packages: fastjsonschema, rpds-py, attrs, referencing, jsonschema-specifications, jsonschema, nbformat\n",
      "Successfully installed attrs-25.3.0 fastjsonschema-2.21.1 jsonschema-4.25.0 jsonschema-specifications-2025.4.1 nbformat-5.10.4 referencing-0.36.2 rpds-py-0.26.0\n",
      "Note: you may need to restart the kernel to use updated packages.\n"
     ]
    },
    {
     "name": "stderr",
     "output_type": "stream",
     "text": [
      "  WARNING: The script jsonschema.exe is installed in 'c:\\Users\\User\\AppData\\Local\\Programs\\Python\\Python313\\Scripts' which is not on PATH.\n",
      "  Consider adding this directory to PATH or, if you prefer to suppress this warning, use --no-warn-script-location.\n",
      "  WARNING: The script jupyter-trust.exe is installed in 'c:\\Users\\User\\AppData\\Local\\Programs\\Python\\Python313\\Scripts' which is not on PATH.\n",
      "  Consider adding this directory to PATH or, if you prefer to suppress this warning, use --no-warn-script-location.\n",
      "\n",
      "[notice] A new release of pip is available: 24.3.1 -> 25.2\n",
      "[notice] To update, run: python.exe -m pip install --upgrade pip\n"
     ]
    },
    {
     "ename": "NotJSONError",
     "evalue": "Notebook does not appear to be JSON: ''",
     "output_type": "error",
     "traceback": [
      "\u001b[31m---------------------------------------------------------------------------\u001b[39m",
      "\u001b[31mJSONDecodeError\u001b[39m                           Traceback (most recent call last)",
      "\u001b[36mFile \u001b[39m\u001b[32mc:\\Users\\User\\AppData\\Local\\Programs\\Python\\Python313\\Lib\\site-packages\\nbformat\\reader.py:19\u001b[39m, in \u001b[36mparse_json\u001b[39m\u001b[34m(s, **kwargs)\u001b[39m\n\u001b[32m     18\u001b[39m \u001b[38;5;28;01mtry\u001b[39;00m:\n\u001b[32m---> \u001b[39m\u001b[32m19\u001b[39m     nb_dict = \u001b[43mjson\u001b[49m\u001b[43m.\u001b[49m\u001b[43mloads\u001b[49m\u001b[43m(\u001b[49m\u001b[43ms\u001b[49m\u001b[43m,\u001b[49m\u001b[43m \u001b[49m\u001b[43m*\u001b[49m\u001b[43m*\u001b[49m\u001b[43mkwargs\u001b[49m\u001b[43m)\u001b[49m\n\u001b[32m     20\u001b[39m \u001b[38;5;28;01mexcept\u001b[39;00m \u001b[38;5;167;01mValueError\u001b[39;00m \u001b[38;5;28;01mas\u001b[39;00m e:\n",
      "\u001b[36mFile \u001b[39m\u001b[32mc:\\Users\\User\\AppData\\Local\\Programs\\Python\\Python313\\Lib\\json\\__init__.py:346\u001b[39m, in \u001b[36mloads\u001b[39m\u001b[34m(s, cls, object_hook, parse_float, parse_int, parse_constant, object_pairs_hook, **kw)\u001b[39m\n\u001b[32m    343\u001b[39m \u001b[38;5;28;01mif\u001b[39;00m (\u001b[38;5;28mcls\u001b[39m \u001b[38;5;129;01mis\u001b[39;00m \u001b[38;5;28;01mNone\u001b[39;00m \u001b[38;5;129;01mand\u001b[39;00m object_hook \u001b[38;5;129;01mis\u001b[39;00m \u001b[38;5;28;01mNone\u001b[39;00m \u001b[38;5;129;01mand\u001b[39;00m\n\u001b[32m    344\u001b[39m         parse_int \u001b[38;5;129;01mis\u001b[39;00m \u001b[38;5;28;01mNone\u001b[39;00m \u001b[38;5;129;01mand\u001b[39;00m parse_float \u001b[38;5;129;01mis\u001b[39;00m \u001b[38;5;28;01mNone\u001b[39;00m \u001b[38;5;129;01mand\u001b[39;00m\n\u001b[32m    345\u001b[39m         parse_constant \u001b[38;5;129;01mis\u001b[39;00m \u001b[38;5;28;01mNone\u001b[39;00m \u001b[38;5;129;01mand\u001b[39;00m object_pairs_hook \u001b[38;5;129;01mis\u001b[39;00m \u001b[38;5;28;01mNone\u001b[39;00m \u001b[38;5;129;01mand\u001b[39;00m \u001b[38;5;129;01mnot\u001b[39;00m kw):\n\u001b[32m--> \u001b[39m\u001b[32m346\u001b[39m     \u001b[38;5;28;01mreturn\u001b[39;00m \u001b[43m_default_decoder\u001b[49m\u001b[43m.\u001b[49m\u001b[43mdecode\u001b[49m\u001b[43m(\u001b[49m\u001b[43ms\u001b[49m\u001b[43m)\u001b[49m\n\u001b[32m    347\u001b[39m \u001b[38;5;28;01mif\u001b[39;00m \u001b[38;5;28mcls\u001b[39m \u001b[38;5;129;01mis\u001b[39;00m \u001b[38;5;28;01mNone\u001b[39;00m:\n",
      "\u001b[36mFile \u001b[39m\u001b[32mc:\\Users\\User\\AppData\\Local\\Programs\\Python\\Python313\\Lib\\json\\decoder.py:345\u001b[39m, in \u001b[36mJSONDecoder.decode\u001b[39m\u001b[34m(self, s, _w)\u001b[39m\n\u001b[32m    341\u001b[39m \u001b[38;5;250m\u001b[39m\u001b[33;03m\"\"\"Return the Python representation of ``s`` (a ``str`` instance\u001b[39;00m\n\u001b[32m    342\u001b[39m \u001b[33;03mcontaining a JSON document).\u001b[39;00m\n\u001b[32m    343\u001b[39m \n\u001b[32m    344\u001b[39m \u001b[33;03m\"\"\"\u001b[39;00m\n\u001b[32m--> \u001b[39m\u001b[32m345\u001b[39m obj, end = \u001b[38;5;28;43mself\u001b[39;49m\u001b[43m.\u001b[49m\u001b[43mraw_decode\u001b[49m\u001b[43m(\u001b[49m\u001b[43ms\u001b[49m\u001b[43m,\u001b[49m\u001b[43m \u001b[49m\u001b[43midx\u001b[49m\u001b[43m=\u001b[49m\u001b[43m_w\u001b[49m\u001b[43m(\u001b[49m\u001b[43ms\u001b[49m\u001b[43m,\u001b[49m\u001b[43m \u001b[49m\u001b[32;43m0\u001b[39;49m\u001b[43m)\u001b[49m\u001b[43m.\u001b[49m\u001b[43mend\u001b[49m\u001b[43m(\u001b[49m\u001b[43m)\u001b[49m\u001b[43m)\u001b[49m\n\u001b[32m    346\u001b[39m end = _w(s, end).end()\n",
      "\u001b[36mFile \u001b[39m\u001b[32mc:\\Users\\User\\AppData\\Local\\Programs\\Python\\Python313\\Lib\\json\\decoder.py:363\u001b[39m, in \u001b[36mJSONDecoder.raw_decode\u001b[39m\u001b[34m(self, s, idx)\u001b[39m\n\u001b[32m    362\u001b[39m \u001b[38;5;28;01mexcept\u001b[39;00m \u001b[38;5;167;01mStopIteration\u001b[39;00m \u001b[38;5;28;01mas\u001b[39;00m err:\n\u001b[32m--> \u001b[39m\u001b[32m363\u001b[39m     \u001b[38;5;28;01mraise\u001b[39;00m JSONDecodeError(\u001b[33m\"\u001b[39m\u001b[33mExpecting value\u001b[39m\u001b[33m\"\u001b[39m, s, err.value) \u001b[38;5;28;01mfrom\u001b[39;00m\u001b[38;5;250m \u001b[39m\u001b[38;5;28;01mNone\u001b[39;00m\n\u001b[32m    364\u001b[39m \u001b[38;5;28;01mreturn\u001b[39;00m obj, end\n",
      "\u001b[31mJSONDecodeError\u001b[39m: Expecting value: line 1 column 1 (char 0)",
      "\nThe above exception was the direct cause of the following exception:\n",
      "\u001b[31mNotJSONError\u001b[39m                              Traceback (most recent call last)",
      "\u001b[36mCell\u001b[39m\u001b[36m \u001b[39m\u001b[32mIn[3]\u001b[39m\u001b[32m, line 5\u001b[39m\n\u001b[32m      3\u001b[39m \u001b[38;5;28;01mimport\u001b[39;00m\u001b[38;5;250m \u001b[39m\u001b[34;01mnbformat\u001b[39;00m\n\u001b[32m      4\u001b[39m \u001b[38;5;28;01mwith\u001b[39;00m \u001b[38;5;28mopen\u001b[39m(\u001b[33m'\u001b[39m\u001b[33mCODES.ipynb\u001b[39m\u001b[33m'\u001b[39m, \u001b[33m'\u001b[39m\u001b[33mr\u001b[39m\u001b[33m'\u001b[39m, encoding=\u001b[33m'\u001b[39m\u001b[33mutf-8\u001b[39m\u001b[33m'\u001b[39m) \u001b[38;5;28;01mas\u001b[39;00m f:\n\u001b[32m----> \u001b[39m\u001b[32m5\u001b[39m     notebook = \u001b[43mnbformat\u001b[49m\u001b[43m.\u001b[49m\u001b[43mread\u001b[49m\u001b[43m(\u001b[49m\u001b[43mf\u001b[49m\u001b[43m,\u001b[49m\u001b[43m \u001b[49m\u001b[43mas_version\u001b[49m\u001b[43m=\u001b[49m\u001b[32;43m4\u001b[39;49m\u001b[43m)\u001b[49m  \u001b[38;5;66;03m# Reads the Jupyter notebook file\u001b[39;00m\n\u001b[32m      6\u001b[39m     \u001b[38;5;28mprint\u001b[39m(notebook)  \u001b[38;5;66;03m# Prints the content of the notebook\u001b[39;00m\n",
      "\u001b[36mFile \u001b[39m\u001b[32mc:\\Users\\User\\AppData\\Local\\Programs\\Python\\Python313\\Lib\\site-packages\\nbformat\\__init__.py:174\u001b[39m, in \u001b[36mread\u001b[39m\u001b[34m(fp, as_version, capture_validation_error, **kwargs)\u001b[39m\n\u001b[32m    171\u001b[39m     \u001b[38;5;28;01mwith\u001b[39;00m \u001b[38;5;28mopen\u001b[39m(fp, encoding=\u001b[33m\"\u001b[39m\u001b[33mutf8\u001b[39m\u001b[33m\"\u001b[39m) \u001b[38;5;28;01mas\u001b[39;00m f:  \u001b[38;5;66;03m# noqa: PTH123\u001b[39;00m\n\u001b[32m    172\u001b[39m         \u001b[38;5;28;01mreturn\u001b[39;00m reads(f.read(), as_version, capture_validation_error, **kwargs)\n\u001b[32m--> \u001b[39m\u001b[32m174\u001b[39m \u001b[38;5;28;01mreturn\u001b[39;00m \u001b[43mreads\u001b[49m\u001b[43m(\u001b[49m\u001b[43mbuf\u001b[49m\u001b[43m,\u001b[49m\u001b[43m \u001b[49m\u001b[43mas_version\u001b[49m\u001b[43m,\u001b[49m\u001b[43m \u001b[49m\u001b[43mcapture_validation_error\u001b[49m\u001b[43m,\u001b[49m\u001b[43m \u001b[49m\u001b[43m*\u001b[49m\u001b[43m*\u001b[49m\u001b[43mkwargs\u001b[49m\u001b[43m)\u001b[49m\n",
      "\u001b[36mFile \u001b[39m\u001b[32mc:\\Users\\User\\AppData\\Local\\Programs\\Python\\Python313\\Lib\\site-packages\\nbformat\\__init__.py:92\u001b[39m, in \u001b[36mreads\u001b[39m\u001b[34m(s, as_version, capture_validation_error, **kwargs)\u001b[39m\n\u001b[32m     66\u001b[39m \u001b[38;5;28;01mdef\u001b[39;00m\u001b[38;5;250m \u001b[39m\u001b[34mreads\u001b[39m(s, as_version, capture_validation_error=\u001b[38;5;28;01mNone\u001b[39;00m, **kwargs):\n\u001b[32m     67\u001b[39m \u001b[38;5;250m    \u001b[39m\u001b[33;03m\"\"\"Read a notebook from a string and return the NotebookNode object as the given version.\u001b[39;00m\n\u001b[32m     68\u001b[39m \n\u001b[32m     69\u001b[39m \u001b[33;03m    The string can contain a notebook of any version.\u001b[39;00m\n\u001b[32m   (...)\u001b[39m\u001b[32m     90\u001b[39m \u001b[33;03m        The notebook that was read.\u001b[39;00m\n\u001b[32m     91\u001b[39m \u001b[33;03m    \"\"\"\u001b[39;00m\n\u001b[32m---> \u001b[39m\u001b[32m92\u001b[39m     nb = \u001b[43mreader\u001b[49m\u001b[43m.\u001b[49m\u001b[43mreads\u001b[49m\u001b[43m(\u001b[49m\u001b[43ms\u001b[49m\u001b[43m,\u001b[49m\u001b[43m \u001b[49m\u001b[43m*\u001b[49m\u001b[43m*\u001b[49m\u001b[43mkwargs\u001b[49m\u001b[43m)\u001b[49m\n\u001b[32m     93\u001b[39m     \u001b[38;5;28;01mif\u001b[39;00m as_version \u001b[38;5;129;01mis\u001b[39;00m \u001b[38;5;129;01mnot\u001b[39;00m NO_CONVERT:\n\u001b[32m     94\u001b[39m         nb = convert(nb, as_version)\n",
      "\u001b[36mFile \u001b[39m\u001b[32mc:\\Users\\User\\AppData\\Local\\Programs\\Python\\Python313\\Lib\\site-packages\\nbformat\\reader.py:75\u001b[39m, in \u001b[36mreads\u001b[39m\u001b[34m(s, **kwargs)\u001b[39m\n\u001b[32m     50\u001b[39m \u001b[38;5;250m\u001b[39m\u001b[33;03m\"\"\"Read a notebook from a json string and return the\u001b[39;00m\n\u001b[32m     51\u001b[39m \u001b[33;03mNotebookNode object.\u001b[39;00m\n\u001b[32m     52\u001b[39m \n\u001b[32m   (...)\u001b[39m\u001b[32m     71\u001b[39m \u001b[33;03m    Specified major version is invalid or unsupported.\u001b[39;00m\n\u001b[32m     72\u001b[39m \u001b[33;03m\"\"\"\u001b[39;00m\n\u001b[32m     73\u001b[39m \u001b[38;5;28;01mfrom\u001b[39;00m\u001b[38;5;250m \u001b[39m\u001b[34;01m.\u001b[39;00m\u001b[38;5;250m \u001b[39m\u001b[38;5;28;01mimport\u001b[39;00m NBFormatError, versions\n\u001b[32m---> \u001b[39m\u001b[32m75\u001b[39m nb_dict = \u001b[43mparse_json\u001b[49m\u001b[43m(\u001b[49m\u001b[43ms\u001b[49m\u001b[43m,\u001b[49m\u001b[43m \u001b[49m\u001b[43m*\u001b[49m\u001b[43m*\u001b[49m\u001b[43mkwargs\u001b[49m\u001b[43m)\u001b[49m\n\u001b[32m     76\u001b[39m (major, minor) = get_version(nb_dict)\n\u001b[32m     77\u001b[39m \u001b[38;5;28;01mif\u001b[39;00m major \u001b[38;5;129;01min\u001b[39;00m versions:\n",
      "\u001b[36mFile \u001b[39m\u001b[32mc:\\Users\\User\\AppData\\Local\\Programs\\Python\\Python313\\Lib\\site-packages\\nbformat\\reader.py:25\u001b[39m, in \u001b[36mparse_json\u001b[39m\u001b[34m(s, **kwargs)\u001b[39m\n\u001b[32m     23\u001b[39m     \u001b[38;5;28;01mif\u001b[39;00m \u001b[38;5;28mlen\u001b[39m(message) > \u001b[32m80\u001b[39m:\n\u001b[32m     24\u001b[39m         message = message[:\u001b[32m77\u001b[39m] + \u001b[33m\"\u001b[39m\u001b[33m...\u001b[39m\u001b[33m\"\u001b[39m\n\u001b[32m---> \u001b[39m\u001b[32m25\u001b[39m     \u001b[38;5;28;01mraise\u001b[39;00m NotJSONError(message) \u001b[38;5;28;01mfrom\u001b[39;00m\u001b[38;5;250m \u001b[39m\u001b[34;01me\u001b[39;00m\n\u001b[32m     26\u001b[39m \u001b[38;5;28;01mreturn\u001b[39;00m nb_dict\n",
      "\u001b[31mNotJSONError\u001b[39m: Notebook does not appear to be JSON: ''"
     ]
    }
   ],
   "source": [
    "%pip install nbformat\n",
    "\n",
    "import nbformat\n",
    "with open('CODES.ipynb', 'r', encoding='utf-8') as f:\n",
    "    notebook = nbformat.read(f, as_version=4)  # Reads the Jupyter notebook file\n",
    "    print(notebook)  # Prints the content of the notebook"
   ]
  },
  {
   "cell_type": "code",
   "execution_count": null,
   "id": "3bc12be0",
   "metadata": {},
   "outputs": [],
   "source": []
  }
 ],
 "metadata": {
  "kernelspec": {
   "display_name": "Python 3",
   "language": "python",
   "name": "python3"
  },
  "language_info": {
   "codemirror_mode": {
    "name": "ipython",
    "version": 3
   },
   "file_extension": ".py",
   "mimetype": "text/x-python",
   "name": "python",
   "nbconvert_exporter": "python",
   "pygments_lexer": "ipython3",
   "version": "3.13.2"
  }
 },
 "nbformat": 4,
 "nbformat_minor": 5
}
